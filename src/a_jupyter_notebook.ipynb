{
 "cells": [
  {
   "cell_type": "code",
   "execution_count": null,
   "metadata": {},
   "outputs": [],
   "source": [
    "import pandas as pd\n",
    "from sklearn.feature_extraction.text import CountVectorizer"
   ]
  },
  {
   "cell_type": "code",
   "execution_count": null,
   "metadata": {},
   "outputs": [],
   "source": [
    "text = ['Hello my name is james',\n",
    "        'james this notebook is better than my python notebook',\n",
    "        'james trying to create a big dataset',\n",
    "        'james of words to try different',\n",
    "        'features of count vectorizer'\n",
    "        ]"
   ]
  },
  {
   "cell_type": "code",
   "execution_count": null,
   "metadata": {},
   "outputs": [],
   "source": [
    "def string_reverse(str1):\n",
    "    #Returns the reversed String.\n",
    "\n",
    "    #Parameters:\n",
    "    #    str1 (str):The string which is to be reversed.\n",
    "\n",
    "    #Returns:\n",
    "    #    reverse(str1):The string which gets reversed.   \n",
    "\n",
    "    reverse_str1 = ''\n",
    "    i = len(str1)\n",
    "    while i > 0:\n",
    "        reverse_str1 += str1[i - 1]\n",
    "        i = i- 1\n",
    "    return reverse_str1"
   ]
  }
 ],
 "metadata": {
  "language_info": {
   "name": "python"
  },
  "orig_nbformat": 4
 },
 "nbformat": 4,
 "nbformat_minor": 2
}
